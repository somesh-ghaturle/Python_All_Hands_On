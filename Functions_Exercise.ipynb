{
  "nbformat": 4,
  "nbformat_minor": 0,
  "metadata": {
    "colab": {
      "name": "Functions Exercise.ipynb",
      "provenance": [],
      "authorship_tag": "ABX9TyMFRqWWMa55S3VwA0/mRbiG",
      "include_colab_link": true
    },
    "kernelspec": {
      "name": "python3",
      "display_name": "Python 3"
    },
    "language_info": {
      "name": "python"
    }
  },
  "cells": [
    {
      "cell_type": "markdown",
      "metadata": {
        "id": "view-in-github",
        "colab_type": "text"
      },
      "source": [
        "<a href=\"https://colab.research.google.com/github/somesh-ghaturle/Python_All_Hands_On/blob/main/Functions_Exercise.ipynb\" target=\"_parent\"><img src=\"https://colab.research.google.com/assets/colab-badge.svg\" alt=\"Open In Colab\"/></a>"
      ]
    },
    {
      "cell_type": "markdown",
      "source": [
        "#Exercise 1: Create a function in Python\n",
        "Write a program to create a function that takes two arguments, name and age, and print their value."
      ],
      "metadata": {
        "id": "KI4vbLR3ZzYu"
      }
    },
    {
      "cell_type": "code",
      "execution_count": null,
      "metadata": {
        "colab": {
          "base_uri": "https://localhost:8080/"
        },
        "id": "Rtf6TQJtqAvT",
        "outputId": "d3c56301-cd0f-4099-a038-0e9d61d7863b"
      },
      "outputs": [
        {
          "output_type": "stream",
          "name": "stdout",
          "text": [
            "Name:Somesh Age:25\n"
          ]
        }
      ],
      "source": [
        "def func(name,age):\n",
        "  print(f\"Name:{name} Age:{age}\")\n",
        "\n",
        "func('Somesh',25)"
      ]
    },
    {
      "cell_type": "markdown",
      "source": [
        "#Exercise 2: Create a function with variable length of arguments\n",
        "Write a program to create function func1() to accept a variable length of arguments and print their value.\n",
        "\n",
        "Note: Create a function in such a way that we can pass any number of arguments to this function and the function should process them and display each argument’s value."
      ],
      "metadata": {
        "id": "SA1i8A3IZyu3"
      }
    },
    {
      "cell_type": "code",
      "source": [
        "def func1(*args):\n",
        "  for i in args:\n",
        "    print(i, end = ' ')\n",
        "\n",
        "func1(20, 40, 60)\n",
        "# func1(80, 100)"
      ],
      "metadata": {
        "id": "kI61R1ltqi92",
        "colab": {
          "base_uri": "https://localhost:8080/"
        },
        "outputId": "5eed859c-247c-45f4-a121-4475a2b09b01"
      },
      "execution_count": null,
      "outputs": [
        {
          "output_type": "stream",
          "name": "stdout",
          "text": [
            "20 40 60 "
          ]
        }
      ]
    },
    {
      "cell_type": "markdown",
      "source": [
        "#Exercise 3: Return multiple values from a function\n",
        "Write a program to create function calculation() such that it can accept two variables and calculate addition and subtraction. Also, it must return both addition and subtraction in a single return call."
      ],
      "metadata": {
        "id": "-nvW6ajNa5-N"
      }
    },
    {
      "cell_type": "code",
      "source": [
        "def calculation(a,b):\n",
        "  return a+b , a-b\n",
        "\n",
        "res = calculation(40,10)\n",
        "print(res)"
      ],
      "metadata": {
        "colab": {
          "base_uri": "https://localhost:8080/"
        },
        "id": "damoThwqainJ",
        "outputId": "8fab7264-42b1-4bac-f646-15e262a6b73b"
      },
      "execution_count": null,
      "outputs": [
        {
          "output_type": "stream",
          "name": "stdout",
          "text": [
            "(50, 30)\n"
          ]
        }
      ]
    },
    {
      "cell_type": "markdown",
      "source": [
        "#Exercise 4: Create a function with default argument\n",
        "Write a program to create a function show_employee() using the following conditions.\n",
        "\n",
        "It should accept the employee’s name and salary and display both.\n",
        "If the salary is missing in the function call then assign default value 9000 to salary"
      ],
      "metadata": {
        "id": "6GIM2yqKbgjN"
      }
    },
    {
      "cell_type": "code",
      "source": [
        "def show_employee(name,salary = 12000):\n",
        "  print(f'Name: {name} Salary: {salary}')\n",
        "\n",
        "show_employee('somesh')\n",
        "show_employee('somesh1',20000)"
      ],
      "metadata": {
        "colab": {
          "base_uri": "https://localhost:8080/"
        },
        "id": "baCmBIxWbOPe",
        "outputId": "92e39177-9d8d-4b5e-a8c1-8ab19919f09e"
      },
      "execution_count": null,
      "outputs": [
        {
          "output_type": "stream",
          "name": "stdout",
          "text": [
            "Name: somesh Salary: 12000\n",
            "Name: somesh Salary: 20000\n"
          ]
        }
      ]
    },
    {
      "cell_type": "markdown",
      "source": [
        "#Exercise 5: Create an inner function to calculate the addition in the following way\n",
        "Create an outer function that will accept two parameters, a and b\n",
        "Create an inner function inside an outer function that will calculate the addition of a and b\n",
        "At last, an outer function will add 5 into addition and return it"
      ],
      "metadata": {
        "id": "L85Iz8M4caBl"
      }
    },
    {
      "cell_type": "code",
      "source": [
        "def outer(a,b):\n",
        "  def inner(c,d):\n",
        "    return c + d\n",
        "  sum = inner(a,b)\n",
        "  return sum + 5 \n",
        "\n",
        "outer(2,3)\n",
        "  "
      ],
      "metadata": {
        "colab": {
          "base_uri": "https://localhost:8080/"
        },
        "id": "iMjoNU1LcK-L",
        "outputId": "0f16e282-4d9e-445f-fd45-c3aab58680a0"
      },
      "execution_count": null,
      "outputs": [
        {
          "output_type": "execute_result",
          "data": {
            "text/plain": [
              "10"
            ]
          },
          "metadata": {},
          "execution_count": 14
        }
      ]
    },
    {
      "cell_type": "markdown",
      "source": [
        "#Exercise 6: Create a recursive function\n",
        "Write a program to create a recursive function to calculate the sum of numbers from 0 to 10.\n",
        "\n",
        "A recursive function is a function that calls itself, again and again"
      ],
      "metadata": {
        "id": "ag_KpPkbeBLG"
      }
    },
    {
      "cell_type": "code",
      "source": [
        "def recursive(a):\n",
        "  if a:\n",
        "    return a + recursive(a-1)\n",
        "  else:\n",
        "    return 0 \n",
        "\n",
        "result = recursive(10)\n",
        "print(result)"
      ],
      "metadata": {
        "colab": {
          "base_uri": "https://localhost:8080/"
        },
        "id": "N-nEsoKddVZt",
        "outputId": "13e27293-6589-43ae-fa50-e0d62f49ec7f"
      },
      "execution_count": null,
      "outputs": [
        {
          "output_type": "stream",
          "name": "stdout",
          "text": [
            "55\n"
          ]
        }
      ]
    },
    {
      "cell_type": "markdown",
      "source": [
        "#Exercise 7: Assign a different name to function and call it through the new name\n",
        "Below is the function display_student(name, age). Assign a new name show_tudent(name, age) to it and call it using the new name."
      ],
      "metadata": {
        "id": "fOjevx0Yew98"
      }
    },
    {
      "cell_type": "code",
      "source": [
        "def display_student(name,age):\n",
        "  print(f'Name:{name} Age:{age}')\n",
        "\n",
        "show_student = display_student\n",
        "show_student('Somesh',24)"
      ],
      "metadata": {
        "colab": {
          "base_uri": "https://localhost:8080/"
        },
        "id": "tva5WB05eQ_N",
        "outputId": "4ba04fa1-5ed8-46b8-b51e-c26ec6ad3902"
      },
      "execution_count": null,
      "outputs": [
        {
          "output_type": "stream",
          "name": "stdout",
          "text": [
            "Name:Somesh Age:24\n"
          ]
        }
      ]
    },
    {
      "cell_type": "markdown",
      "source": [
        "#Exercise 8: Generate a Python list of all the even numbers between 4 to 30"
      ],
      "metadata": {
        "id": "lTBH5HQpfZQ1"
      }
    },
    {
      "cell_type": "code",
      "source": [
        "def name(low,high):\n",
        "  listt=[]\n",
        "  for i in range(low,high,2):\n",
        "    listt.append(i)\n",
        "  return listt\n",
        "\n",
        "name(4,30)\n",
        "\n",
        "#or\n",
        "print(list(range(4,30,2)))"
      ],
      "metadata": {
        "colab": {
          "base_uri": "https://localhost:8080/"
        },
        "id": "TuISZv5BfQK4",
        "outputId": "7f6d5dc0-37b1-44d9-d567-9fd91690d2d5"
      },
      "execution_count": null,
      "outputs": [
        {
          "output_type": "stream",
          "name": "stdout",
          "text": [
            "[4, 6, 8, 10, 12, 14, 16, 18, 20, 22, 24, 26, 28]\n"
          ]
        }
      ]
    },
    {
      "cell_type": "markdown",
      "source": [
        "#Exercise 9: Find the largest item from a given list\n",
        "x = [4, 6, 8, 24, 12, 2]"
      ],
      "metadata": {
        "id": "-MUH88_zgMu8"
      }
    },
    {
      "cell_type": "code",
      "source": [
        "x = [4, 6, 8, 24, 12, 2]\n",
        "# print(max(x))\n",
        "\n",
        "# or\n",
        "num =x[0]\n",
        "for i in x:\n",
        "  if i > num:\n",
        "    num=i\n",
        "print(num)\n"
      ],
      "metadata": {
        "colab": {
          "base_uri": "https://localhost:8080/"
        },
        "id": "4QK5UnKaf16B",
        "outputId": "09c2ffc4-a8cc-490b-b87d-723a7a168cba"
      },
      "execution_count": null,
      "outputs": [
        {
          "output_type": "stream",
          "name": "stdout",
          "text": [
            "24\n"
          ]
        }
      ]
    },
    {
      "cell_type": "code",
      "source": [
        ""
      ],
      "metadata": {
        "id": "V8KEaxtHgUKh"
      },
      "execution_count": null,
      "outputs": []
    }
  ]
}