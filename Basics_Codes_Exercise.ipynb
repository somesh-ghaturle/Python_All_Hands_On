{
  "nbformat": 4,
  "nbformat_minor": 0,
  "metadata": {
    "colab": {
      "name": "Basics Codes Exercise.ipynb",
      "provenance": [],
      "authorship_tag": "ABX9TyNjruFxVOWz7fWdqfdkut3A",
      "include_colab_link": true
    },
    "kernelspec": {
      "name": "python3",
      "display_name": "Python 3"
    },
    "language_info": {
      "name": "python"
    }
  },
  "cells": [
    {
      "cell_type": "markdown",
      "metadata": {
        "id": "view-in-github",
        "colab_type": "text"
      },
      "source": [
        "<a href=\"https://colab.research.google.com/github/somesh-ghaturle/Python_All_Hands_On/blob/main/Basics_Codes_Exercise.ipynb\" target=\"_parent\"><img src=\"https://colab.research.google.com/assets/colab-badge.svg\" alt=\"Open In Colab\"/></a>"
      ]
    },
    {
      "cell_type": "markdown",
      "source": [
        "#Exercise 1: Calculate the multiplication and sum of two numbers"
      ],
      "metadata": {
        "id": "F_XIFy5lNsHW"
      }
    },
    {
      "cell_type": "code",
      "execution_count": null,
      "metadata": {
        "colab": {
          "base_uri": "https://localhost:8080/"
        },
        "id": "O1g_gS20aqTP",
        "outputId": "92c615c5-2c1c-4651-973a-e54746e17daf"
      },
      "outputs": [
        {
          "output_type": "stream",
          "name": "stdout",
          "text": [
            "20\n",
            "30\n",
            "600\n"
          ]
        }
      ],
      "source": [
        "num1 = int(input())\n",
        "num2 = int(input())\n",
        "product = num1 * num2\n",
        "if (product) <= 1000:\n",
        "  print(product)\n",
        "else:\n",
        "  print(num1 + num2)"
      ]
    },
    {
      "cell_type": "markdown",
      "source": [
        "#Exercise 2: Print the sum of the current number and the previous number"
      ],
      "metadata": {
        "id": "Z5KRw3U3QH5M"
      }
    },
    {
      "cell_type": "code",
      "source": [
        "num = int(input())\n",
        "print('Printing current and previous number sum in a range(10)')\n",
        "\n",
        "for i in range(num):\n",
        "  if i == 0:\n",
        "    print(f'Current Number {i} Previous Number {i} Sum : {i}')\n",
        "  else:\n",
        "    print(f'Current Number {i} Previous Number {i-1} Sum : {i+i-1}')\n"
      ],
      "metadata": {
        "colab": {
          "base_uri": "https://localhost:8080/"
        },
        "id": "yV0m48pBN-Gg",
        "outputId": "e3c2dbeb-ef2a-43cc-d36d-8f5ae109dd13"
      },
      "execution_count": null,
      "outputs": [
        {
          "output_type": "stream",
          "name": "stdout",
          "text": [
            "10\n",
            "Printing current and previous number sum in a range(10)\n",
            "Current Number 0 Previous Number 0 Sum : 0\n",
            "Current Number 1 Previous Number 0 Sum : 1\n",
            "Current Number 2 Previous Number 1 Sum : 3\n",
            "Current Number 3 Previous Number 2 Sum : 5\n",
            "Current Number 4 Previous Number 3 Sum : 7\n",
            "Current Number 5 Previous Number 4 Sum : 9\n",
            "Current Number 6 Previous Number 5 Sum : 11\n",
            "Current Number 7 Previous Number 6 Sum : 13\n",
            "Current Number 8 Previous Number 7 Sum : 15\n",
            "Current Number 9 Previous Number 8 Sum : 17\n"
          ]
        }
      ]
    },
    {
      "cell_type": "markdown",
      "source": [
        "#Exercise 3: Print characters from a string that are present at an even index number\n"
      ],
      "metadata": {
        "id": "j3JWDVkQRpLT"
      }
    },
    {
      "cell_type": "markdown",
      "source": [
        "For example, str = \"pynative\" so you should display ‘p’, ‘n’, ‘t’, ‘v’."
      ],
      "metadata": {
        "id": "MwYddIjTRz1s"
      }
    },
    {
      "cell_type": "code",
      "source": [
        "str = \"pynative\"\n",
        "print(str[::2], end = ' ')"
      ],
      "metadata": {
        "colab": {
          "base_uri": "https://localhost:8080/"
        },
        "id": "P8pErXngRogL",
        "outputId": "eac59145-d2b0-480e-f5e7-7ded7edf8469"
      },
      "execution_count": null,
      "outputs": [
        {
          "output_type": "stream",
          "name": "stdout",
          "text": [
            "pntv "
          ]
        }
      ]
    },
    {
      "cell_type": "markdown",
      "source": [
        "#Exercise 4: Remove first n characters from a string"
      ],
      "metadata": {
        "id": "_J5yrlnnS-e8"
      }
    },
    {
      "cell_type": "markdown",
      "source": [
        "Write a program to remove characters from a string starting from zero up to n and return a new string.\n",
        "\n",
        "For example:\n",
        "\n",
        " \n",
        "\n",
        "1.   remove_chars(\"pynative\", 4) so output must be tive. Here we need to remove first four characters from a string.\n",
        "2.   remove_chars(\"pynative\", 2) so output must be native. Here we need to remove first two characters from a string.\n",
        "\n",
        "\n",
        "\n"
      ],
      "metadata": {
        "id": "S3kjqIzfTAF7"
      }
    },
    {
      "cell_type": "code",
      "source": [
        "def remove_chars(string,n):\n",
        "  x = string[n:]\n",
        "  return x\n",
        "\n",
        "string = input()\n",
        "print(remove_chars(string,2))\n"
      ],
      "metadata": {
        "colab": {
          "base_uri": "https://localhost:8080/"
        },
        "id": "TQLbnxbYOMb5",
        "outputId": "81416fcb-7996-406d-c920-9c5eb1d23808"
      },
      "execution_count": null,
      "outputs": [
        {
          "output_type": "stream",
          "name": "stdout",
          "text": [
            "pynative\n",
            "native\n"
          ]
        }
      ]
    },
    {
      "cell_type": "markdown",
      "source": [
        "#Exercise 5: Check if the first and last number of a list is the same\n",
        "Write a function to return True if the first and last number of a given list is same. If numbers are different then return False."
      ],
      "metadata": {
        "id": "FKjlUYAJUVDD"
      }
    },
    {
      "cell_type": "code",
      "source": [
        "def first_last(fi,li):\n",
        "  if fi == li :\n",
        "    return True\n",
        "  return False\n",
        "\n",
        "number1  = [10,20,30,40,10]\n",
        "number2 = [20,60,50,40,40,50]\n",
        "\n",
        "print(first_last(number1[0],number1[-1]))\n",
        "print(first_last(number2[0],number2[-1]))"
      ],
      "metadata": {
        "colab": {
          "base_uri": "https://localhost:8080/"
        },
        "id": "DW4q6o4MSaeC",
        "outputId": "c63ed479-77cf-485e-884a-e201b6fed52e"
      },
      "execution_count": null,
      "outputs": [
        {
          "output_type": "stream",
          "name": "stdout",
          "text": [
            "True\n",
            "False\n"
          ]
        }
      ]
    },
    {
      "cell_type": "code",
      "source": [
        ""
      ],
      "metadata": {
        "id": "0kRBlfVaVCHi"
      },
      "execution_count": null,
      "outputs": []
    },
    {
      "cell_type": "markdown",
      "source": [
        "#Exercise 6: Display numbers divisible by 5 from a list\n",
        "Iterate the given list of numbers and print only those numbers which are divisible by 5"
      ],
      "metadata": {
        "id": "xhVY7ptBVUNL"
      }
    },
    {
      "cell_type": "code",
      "source": [
        "data = [10,20,55,34,67,89,101]\n",
        "print('Divisible by 5:')\n",
        "for i in data:\n",
        "  if i % 5 == 0:\n",
        "    print(i)"
      ],
      "metadata": {
        "colab": {
          "base_uri": "https://localhost:8080/"
        },
        "id": "eJPgt2eoVWOH",
        "outputId": "1c8e4d37-c2a9-47ff-e583-1696723e4e22"
      },
      "execution_count": null,
      "outputs": [
        {
          "output_type": "stream",
          "name": "stdout",
          "text": [
            "Divisible by 5:\n",
            "10\n",
            "20\n",
            "55\n"
          ]
        }
      ]
    },
    {
      "cell_type": "markdown",
      "source": [
        "#Exercise 7: Return the count of a given substring from a string\n",
        "Write a program to find how many times substring “Emma” appears in the given string."
      ],
      "metadata": {
        "id": "Vxorl5uQV-Gr"
      }
    },
    {
      "cell_type": "code",
      "source": [
        "str_x = \"Emma is good developer. Emma is a writer\"\n",
        "cnt = str_x.count(\"Emma\")\n",
        "print(cnt)"
      ],
      "metadata": {
        "colab": {
          "base_uri": "https://localhost:8080/"
        },
        "id": "jjozKRhrVljh",
        "outputId": "667c54c6-954e-4ad2-eae4-7cc71fa013d6"
      },
      "execution_count": null,
      "outputs": [
        {
          "output_type": "stream",
          "name": "stdout",
          "text": [
            "2\n"
          ]
        }
      ]
    },
    {
      "cell_type": "markdown",
      "source": [
        "#Exercise 8: Print the following pattern\n",
        "1 \n",
        "2 2 \n",
        "3 3 3 \n",
        "4 4 4 4 \n",
        "5 5 5 5 5"
      ],
      "metadata": {
        "id": "e2SBB8dRWTjy"
      }
    },
    {
      "cell_type": "code",
      "source": [
        "for num in range(6):\n",
        "    for i in range(num):\n",
        "        print (num, end=\" \") #print number\n",
        "    # new line after each row to display pattern correctly\n",
        "    print(\"\\n\")"
      ],
      "metadata": {
        "colab": {
          "base_uri": "https://localhost:8080/"
        },
        "id": "1RhhvgUOWDOu",
        "outputId": "692cfa27-8f31-435b-8a4c-3f6e931f94ed"
      },
      "execution_count": null,
      "outputs": [
        {
          "output_type": "stream",
          "name": "stdout",
          "text": [
            "\n",
            "\n",
            "1 \n",
            "\n",
            "2 2 \n",
            "\n",
            "3 3 3 \n",
            "\n",
            "4 4 4 4 \n",
            "\n",
            "5 5 5 5 5 \n",
            "\n"
          ]
        }
      ]
    },
    {
      "cell_type": "markdown",
      "source": [
        "#Exercise 9: Check Palindrome Number\n",
        "Write a program to check if the given number is a palindrome number.\n",
        "\n",
        "A palindrome number is a number that is same after reverse. For example 545, is the palindrome numbers"
      ],
      "metadata": {
        "id": "pr42411oX2hT"
      }
    },
    {
      "cell_type": "code",
      "source": [
        "number = '121'\n",
        "\n",
        "print('Palindrome'if number == number[::-1] else False)"
      ],
      "metadata": {
        "colab": {
          "base_uri": "https://localhost:8080/"
        },
        "id": "EzXpjWAOWxJt",
        "outputId": "ec915130-de23-4723-aafd-e44be7828330"
      },
      "execution_count": null,
      "outputs": [
        {
          "output_type": "stream",
          "name": "stdout",
          "text": [
            "Palindrome\n"
          ]
        }
      ]
    },
    {
      "cell_type": "markdown",
      "source": [
        "#Exercise 10: Create a new list from a two list using the following condition\n",
        "\n",
        "Create a new list from a two list using the following condition\n",
        "\n",
        "Given a two list of numbers, write a program to create a new list such that the new list should contain odd numbers from the first list and even numbers from the second list."
      ],
      "metadata": {
        "id": "AQad9kXHa7-x"
      }
    },
    {
      "cell_type": "code",
      "source": [
        "list1 = [10, 20, 25, 30, 35]\n",
        "list2 = [40, 45, 60, 75, 90]\n",
        "result = []\n",
        "\n",
        "#for Odd List \n",
        "for i in list1:\n",
        "  if i % 2 != 0:\n",
        "    result.append(i)\n",
        "\n",
        "#for Even List\n",
        "for i in list2:\n",
        "  if i % 2 == 0:\n",
        "    result.append(i)\n",
        "\n",
        "print(result)"
      ],
      "metadata": {
        "colab": {
          "base_uri": "https://localhost:8080/"
        },
        "id": "bNj0LIT1YNU_",
        "outputId": "c97e63e9-cc2a-4a16-af6e-f28f7b8e9a87"
      },
      "execution_count": null,
      "outputs": [
        {
          "output_type": "stream",
          "name": "stdout",
          "text": [
            "[25, 35, 40, 60, 90]\n"
          ]
        }
      ]
    },
    {
      "cell_type": "markdown",
      "source": [
        "#Exercise 11: Write a Program to extract each digit from an integer in the reverse order.\n",
        "For example, If the given int is 7536, the output shall be “6 3 5 7“, with a space separating the digits."
      ],
      "metadata": {
        "id": "XZVXwc7adqb1"
      }
    },
    {
      "cell_type": "code",
      "source": [
        "number = 7536\n",
        "\n",
        "while number>0:\n",
        "  digit = number % 10\n",
        "  number =number // 10\n",
        "  print(digit,end = ' ')"
      ],
      "metadata": {
        "colab": {
          "base_uri": "https://localhost:8080/"
        },
        "id": "6Yf8rt4Ib5I1",
        "outputId": "0dc617bf-5759-4882-e83b-9443e378837a"
      },
      "execution_count": null,
      "outputs": [
        {
          "output_type": "stream",
          "name": "stdout",
          "text": [
            "6 3 5 7 "
          ]
        }
      ]
    },
    {
      "cell_type": "markdown",
      "source": [
        "#Exercise 12: Calculate income tax for the given income by adhering to the below rules\n",
        "\n",
        "Taxable Income\tRate (in %) \n",
        "First $10,000\t0  \n",
        "Next $10,000\t10 \n",
        "The remaining\t20"
      ],
      "metadata": {
        "id": "x5f4h0N6D6qK"
      }
    },
    {
      "cell_type": "code",
      "source": [
        "income = 45000\n",
        "tax_payable = 0\n",
        "print(\"Given income\", income)\n",
        "\n",
        "if income <= 10000:\n",
        "    tax_payable = 0\n",
        "elif income <= 20000:\n",
        "    # no tax on first 10,000\n",
        "    x = income - 10000\n",
        "    # 10% tax\n",
        "    tax_payable = x * 10 / 100\n",
        "else:\n",
        "    # first 10,000\n",
        "    tax_payable = 0\n",
        "\n",
        "    # next 10,000 10% tax\n",
        "    tax_payable = 10000 * 10 / 100\n",
        "\n",
        "    # remaining 20%tax\n",
        "    tax_payable += (income - 20000) * 20 / 100\n",
        "\n",
        "print(\"Total tax to pay is\", tax_payable)"
      ],
      "metadata": {
        "colab": {
          "base_uri": "https://localhost:8080/"
        },
        "id": "828lH0o9eEgQ",
        "outputId": "485b094f-aa94-4627-dd72-b57dbea11677"
      },
      "execution_count": null,
      "outputs": [
        {
          "output_type": "stream",
          "name": "stdout",
          "text": [
            "Given income 45000\n",
            "Total tax to pay is 6000.0\n"
          ]
        }
      ]
    },
    {
      "cell_type": "markdown",
      "source": [
        "#Exercise 13: Print multiplication table form 1 to 10"
      ],
      "metadata": {
        "id": "vv4oSSmtEa2a"
      }
    },
    {
      "cell_type": "code",
      "source": [
        "for i in range(1, 11):\n",
        "    for j in range(1, 11):\n",
        "        print(i * j, end=\"  \")\n",
        "    print(\"\\t\\t\")"
      ],
      "metadata": {
        "colab": {
          "base_uri": "https://localhost:8080/"
        },
        "id": "8PaoccXlEYEn",
        "outputId": "13a422bf-7a98-4467-bcbf-b40ee157c838"
      },
      "execution_count": null,
      "outputs": [
        {
          "output_type": "stream",
          "name": "stdout",
          "text": [
            "1  2  3  4  5  6  7  8  9  10  \t\t\n",
            "2  4  6  8  10  12  14  16  18  20  \t\t\n",
            "3  6  9  12  15  18  21  24  27  30  \t\t\n",
            "4  8  12  16  20  24  28  32  36  40  \t\t\n",
            "5  10  15  20  25  30  35  40  45  50  \t\t\n",
            "6  12  18  24  30  36  42  48  54  60  \t\t\n",
            "7  14  21  28  35  42  49  56  63  70  \t\t\n",
            "8  16  24  32  40  48  56  64  72  80  \t\t\n",
            "9  18  27  36  45  54  63  72  81  90  \t\t\n",
            "10  20  30  40  50  60  70  80  90  100  \t\t\n"
          ]
        }
      ]
    },
    {
      "cell_type": "markdown",
      "source": [
        "#Exercise 14: Print downward Half-Pyramid Pattern with Star (asterisk)\n",
        "\n",
        "* * * * *  \n",
        "* * * *  \n",
        "* * *  \n",
        "* *  \n",
        "*"
      ],
      "metadata": {
        "id": "pkwLIJKpE2Za"
      }
    },
    {
      "cell_type": "code",
      "source": [
        "for i in range(6, 0, -1):\n",
        "    for j in range(0, i - 1):\n",
        "        print(\"*\", end=' ')\n",
        "    print(\" \")"
      ],
      "metadata": {
        "colab": {
          "base_uri": "https://localhost:8080/"
        },
        "id": "olkl-qgnEh5B",
        "outputId": "c5806c04-ff04-4ee8-e540-2c06f356b92a"
      },
      "execution_count": null,
      "outputs": [
        {
          "output_type": "stream",
          "name": "stdout",
          "text": [
            "* * * * *  \n",
            "* * * *  \n",
            "* * *  \n",
            "* *  \n",
            "*  \n",
            " \n"
          ]
        }
      ]
    },
    {
      "cell_type": "markdown",
      "source": [
        "#Exercise 15: Write a function called exponent(base, exp) that returns an int value of base raises to the power of exp"
      ],
      "metadata": {
        "id": "fvNMfa1vFIdq"
      }
    },
    {
      "cell_type": "code",
      "source": [
        "def exponent(base, exp):\n",
        "    num = exp\n",
        "    result = 1\n",
        "    while num > 0:\n",
        "        result = result * base\n",
        "        num = num - 1\n",
        "    print(base, \"raises to the power of\", exp, \"is: \", result)\n",
        "\n",
        "exponent(5, 4)"
      ],
      "metadata": {
        "colab": {
          "base_uri": "https://localhost:8080/"
        },
        "id": "QB8DWpvkE-3q",
        "outputId": "1d69ad24-6270-46c2-c15d-53d29737e498"
      },
      "execution_count": null,
      "outputs": [
        {
          "output_type": "stream",
          "name": "stdout",
          "text": [
            "5 raises to the power of 4 is:  625\n"
          ]
        }
      ]
    },
    {
      "cell_type": "code",
      "source": [
        ""
      ],
      "metadata": {
        "id": "Tf2kVloEFNG4"
      },
      "execution_count": null,
      "outputs": []
    }
  ]
}