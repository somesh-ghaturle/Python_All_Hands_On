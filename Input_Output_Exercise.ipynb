{
  "nbformat": 4,
  "nbformat_minor": 0,
  "metadata": {
    "colab": {
      "name": "Input Output Exercise.ipynb",
      "provenance": [],
      "authorship_tag": "ABX9TyO2DIM9SkJ4Q7QzB5Wc3XpD",
      "include_colab_link": true
    },
    "kernelspec": {
      "name": "python3",
      "display_name": "Python 3"
    },
    "language_info": {
      "name": "python"
    }
  },
  "cells": [
    {
      "cell_type": "markdown",
      "metadata": {
        "id": "view-in-github",
        "colab_type": "text"
      },
      "source": [
        "<a href=\"https://colab.research.google.com/github/somesh-ghaturle/Python_All_Hands_On/blob/main/Input_Output_Exercise.ipynb\" target=\"_parent\"><img src=\"https://colab.research.google.com/assets/colab-badge.svg\" alt=\"Open In Colab\"/></a>"
      ]
    },
    {
      "cell_type": "markdown",
      "source": [
        "#Exercise 1: Accept numbers from a user\n",
        "Write a program to accept two numbers from the user and calculate multiplication"
      ],
      "metadata": {
        "id": "G4kFi-hBF1bL"
      }
    },
    {
      "cell_type": "code",
      "execution_count": null,
      "metadata": {
        "colab": {
          "base_uri": "https://localhost:8080/"
        },
        "id": "_boTc_siFgJC",
        "outputId": "101ffc15-11ec-4fc9-f590-bbc316d04e27"
      },
      "outputs": [
        {
          "output_type": "stream",
          "name": "stdout",
          "text": [
            "2\n",
            "3\n",
            "6\n"
          ]
        }
      ],
      "source": [
        "input1 = int(input())\n",
        "input2 = int(input())\n",
        "\n",
        "print(input1 * input2)"
      ]
    },
    {
      "cell_type": "markdown",
      "source": [
        "#Exercise 2: Display three string “Name”, “Is”, “James” as “Name**Is**James”\n",
        "Use the print() function to format the given words in the mentioned format. Display the ** separator between each string."
      ],
      "metadata": {
        "id": "U9iOXR3OF5sB"
      }
    },
    {
      "cell_type": "code",
      "source": [
        "print('Name', 'Is', 'James',sep ='**')"
      ],
      "metadata": {
        "colab": {
          "base_uri": "https://localhost:8080/"
        },
        "id": "ClIKr6zbFwhE",
        "outputId": "9b83f880-727d-48a3-b4eb-43d70becfaf6"
      },
      "execution_count": null,
      "outputs": [
        {
          "output_type": "stream",
          "name": "stdout",
          "text": [
            "Name**Is**James\n"
          ]
        }
      ]
    },
    {
      "cell_type": "markdown",
      "source": [
        "#Exercise 3: Convert Decimal number to octal using print() output formatting\n",
        "\n",
        "The octal number of decimal number 8 is 10"
      ],
      "metadata": {
        "id": "PHJreKDBGNqD"
      }
    },
    {
      "cell_type": "code",
      "source": [
        "num = 8\n",
        "\n",
        "print('%o'%num)"
      ],
      "metadata": {
        "colab": {
          "base_uri": "https://localhost:8080/"
        },
        "id": "WmEETTrPGFzi",
        "outputId": "804378e3-5a1a-4471-d79f-2571f6de45c4"
      },
      "execution_count": null,
      "outputs": [
        {
          "output_type": "stream",
          "name": "stdout",
          "text": [
            "10\n"
          ]
        }
      ]
    },
    {
      "cell_type": "markdown",
      "source": [
        "#Exercise 4: Display float number with 2 decimal places using print()"
      ],
      "metadata": {
        "id": "bg2rpSNlGmdh"
      }
    },
    {
      "cell_type": "code",
      "source": [
        "num = 458.541315\n",
        "print(round(num,2))"
      ],
      "metadata": {
        "colab": {
          "base_uri": "https://localhost:8080/"
        },
        "id": "yudye3spGdei",
        "outputId": "cdd356a1-5fd9-4c73-e4b5-3e62ecb20e1a"
      },
      "execution_count": null,
      "outputs": [
        {
          "output_type": "stream",
          "name": "stdout",
          "text": [
            "458.54\n",
            "458.54\n"
          ]
        }
      ]
    },
    {
      "cell_type": "markdown",
      "source": [
        "#Exercise 5: Accept a list of 5 float numbers as an input from the user"
      ],
      "metadata": {
        "id": "pzzHvOxTRWVQ"
      }
    },
    {
      "cell_type": "code",
      "source": [
        "numbers = []\n",
        "\n",
        "# 5 is the list size\n",
        "# run loop 5 times\n",
        "for i in range(0, 5):\n",
        "    print(\"Enter number at location\", i, \":\")\n",
        "    # accept float number from user\n",
        "    item = float(input())\n",
        "    # add it to the list\n",
        "    numbers.append(item)\n",
        "\n",
        "print(\"User List:\", numbers)"
      ],
      "metadata": {
        "colab": {
          "base_uri": "https://localhost:8080/"
        },
        "id": "rHm5zjfXGtNM",
        "outputId": "f6bafbb8-8bfd-4e1f-d0b2-4237d2a30f49"
      },
      "execution_count": null,
      "outputs": [
        {
          "output_type": "stream",
          "name": "stdout",
          "text": [
            "Enter number at location 0 :\n",
            "1\n",
            "Enter number at location 1 :\n",
            "2\n",
            "Enter number at location 2 :\n",
            "3\n",
            "Enter number at location 3 :\n",
            "4\n",
            "Enter number at location 4 :\n",
            "5\n",
            "User List: [1.0, 2.0, 3.0, 4.0, 5.0]\n"
          ]
        }
      ]
    },
    {
      "cell_type": "markdown",
      "source": [
        "#Exercise 6: Write all content of a given file into a new file by skipping line number 5"
      ],
      "metadata": {
        "id": "AJsZc29eSok_"
      }
    },
    {
      "cell_type": "code",
      "source": [
        "# read test.txt\n",
        "with open(\"/content/Text.txt\", \"r\") as fp:\n",
        "    # read all lines from a file\n",
        "    lines = fp.readlines()\n",
        "\n",
        "# open new file in write mode\n",
        "with open(\"/content/new_file.txt\", \"w\") as fp:\n",
        "    count = 0\n",
        "    # iterate each lines from a test.txt\n",
        "    for line in lines:\n",
        "        # skip 5th lines\n",
        "        if count == 4:\n",
        "            count += 1\n",
        "            continue\n",
        "        else:\n",
        "            # write current line\n",
        "            fp.write(line)\n",
        "        # in each iteration reduce the count\n",
        "        count += 1"
      ],
      "metadata": {
        "id": "snUdzoS_RcCX"
      },
      "execution_count": null,
      "outputs": []
    },
    {
      "cell_type": "code",
      "source": [
        "#Testign newly created txt file \n",
        "import pandas as pd\n",
        "df = pd.read_csv('/content/new_file.txt', delimiter = \"\\t\")\n",
        "display(df)"
      ],
      "metadata": {
        "colab": {
          "base_uri": "https://localhost:8080/",
          "height": 206
        },
        "id": "Na9YngUCS7T0",
        "outputId": "569df28f-cb85-46e6-fd91-b379b17b95fc"
      },
      "execution_count": null,
      "outputs": [
        {
          "output_type": "display_data",
          "data": {
            "text/html": [
              "\n",
              "  <div id=\"df-6e263e8a-e980-40f3-9fbb-81a3fb7cfa2a\">\n",
              "    <div class=\"colab-df-container\">\n",
              "      <div>\n",
              "<style scoped>\n",
              "    .dataframe tbody tr th:only-of-type {\n",
              "        vertical-align: middle;\n",
              "    }\n",
              "\n",
              "    .dataframe tbody tr th {\n",
              "        vertical-align: top;\n",
              "    }\n",
              "\n",
              "    .dataframe thead th {\n",
              "        text-align: right;\n",
              "    }\n",
              "</style>\n",
              "<table border=\"1\" class=\"dataframe\">\n",
              "  <thead>\n",
              "    <tr style=\"text-align: right;\">\n",
              "      <th></th>\n",
              "      <th>line1</th>\n",
              "    </tr>\n",
              "  </thead>\n",
              "  <tbody>\n",
              "    <tr>\n",
              "      <th>0</th>\n",
              "      <td>line2</td>\n",
              "    </tr>\n",
              "    <tr>\n",
              "      <th>1</th>\n",
              "      <td>line3</td>\n",
              "    </tr>\n",
              "    <tr>\n",
              "      <th>2</th>\n",
              "      <td>line4</td>\n",
              "    </tr>\n",
              "    <tr>\n",
              "      <th>3</th>\n",
              "      <td>line6</td>\n",
              "    </tr>\n",
              "    <tr>\n",
              "      <th>4</th>\n",
              "      <td>line7</td>\n",
              "    </tr>\n",
              "  </tbody>\n",
              "</table>\n",
              "</div>\n",
              "      <button class=\"colab-df-convert\" onclick=\"convertToInteractive('df-6e263e8a-e980-40f3-9fbb-81a3fb7cfa2a')\"\n",
              "              title=\"Convert this dataframe to an interactive table.\"\n",
              "              style=\"display:none;\">\n",
              "        \n",
              "  <svg xmlns=\"http://www.w3.org/2000/svg\" height=\"24px\"viewBox=\"0 0 24 24\"\n",
              "       width=\"24px\">\n",
              "    <path d=\"M0 0h24v24H0V0z\" fill=\"none\"/>\n",
              "    <path d=\"M18.56 5.44l.94 2.06.94-2.06 2.06-.94-2.06-.94-.94-2.06-.94 2.06-2.06.94zm-11 1L8.5 8.5l.94-2.06 2.06-.94-2.06-.94L8.5 2.5l-.94 2.06-2.06.94zm10 10l.94 2.06.94-2.06 2.06-.94-2.06-.94-.94-2.06-.94 2.06-2.06.94z\"/><path d=\"M17.41 7.96l-1.37-1.37c-.4-.4-.92-.59-1.43-.59-.52 0-1.04.2-1.43.59L10.3 9.45l-7.72 7.72c-.78.78-.78 2.05 0 2.83L4 21.41c.39.39.9.59 1.41.59.51 0 1.02-.2 1.41-.59l7.78-7.78 2.81-2.81c.8-.78.8-2.07 0-2.86zM5.41 20L4 18.59l7.72-7.72 1.47 1.35L5.41 20z\"/>\n",
              "  </svg>\n",
              "      </button>\n",
              "      \n",
              "  <style>\n",
              "    .colab-df-container {\n",
              "      display:flex;\n",
              "      flex-wrap:wrap;\n",
              "      gap: 12px;\n",
              "    }\n",
              "\n",
              "    .colab-df-convert {\n",
              "      background-color: #E8F0FE;\n",
              "      border: none;\n",
              "      border-radius: 50%;\n",
              "      cursor: pointer;\n",
              "      display: none;\n",
              "      fill: #1967D2;\n",
              "      height: 32px;\n",
              "      padding: 0 0 0 0;\n",
              "      width: 32px;\n",
              "    }\n",
              "\n",
              "    .colab-df-convert:hover {\n",
              "      background-color: #E2EBFA;\n",
              "      box-shadow: 0px 1px 2px rgba(60, 64, 67, 0.3), 0px 1px 3px 1px rgba(60, 64, 67, 0.15);\n",
              "      fill: #174EA6;\n",
              "    }\n",
              "\n",
              "    [theme=dark] .colab-df-convert {\n",
              "      background-color: #3B4455;\n",
              "      fill: #D2E3FC;\n",
              "    }\n",
              "\n",
              "    [theme=dark] .colab-df-convert:hover {\n",
              "      background-color: #434B5C;\n",
              "      box-shadow: 0px 1px 3px 1px rgba(0, 0, 0, 0.15);\n",
              "      filter: drop-shadow(0px 1px 2px rgba(0, 0, 0, 0.3));\n",
              "      fill: #FFFFFF;\n",
              "    }\n",
              "  </style>\n",
              "\n",
              "      <script>\n",
              "        const buttonEl =\n",
              "          document.querySelector('#df-6e263e8a-e980-40f3-9fbb-81a3fb7cfa2a button.colab-df-convert');\n",
              "        buttonEl.style.display =\n",
              "          google.colab.kernel.accessAllowed ? 'block' : 'none';\n",
              "\n",
              "        async function convertToInteractive(key) {\n",
              "          const element = document.querySelector('#df-6e263e8a-e980-40f3-9fbb-81a3fb7cfa2a');\n",
              "          const dataTable =\n",
              "            await google.colab.kernel.invokeFunction('convertToInteractive',\n",
              "                                                     [key], {});\n",
              "          if (!dataTable) return;\n",
              "\n",
              "          const docLinkHtml = 'Like what you see? Visit the ' +\n",
              "            '<a target=\"_blank\" href=https://colab.research.google.com/notebooks/data_table.ipynb>data table notebook</a>'\n",
              "            + ' to learn more about interactive tables.';\n",
              "          element.innerHTML = '';\n",
              "          dataTable['output_type'] = 'display_data';\n",
              "          await google.colab.output.renderOutput(dataTable, element);\n",
              "          const docLink = document.createElement('div');\n",
              "          docLink.innerHTML = docLinkHtml;\n",
              "          element.appendChild(docLink);\n",
              "        }\n",
              "      </script>\n",
              "    </div>\n",
              "  </div>\n",
              "  "
            ],
            "text/plain": [
              "   line1\n",
              "0  line2\n",
              "1  line3\n",
              "2  line4\n",
              "3  line6\n",
              "4  line7"
            ]
          },
          "metadata": {}
        }
      ]
    },
    {
      "cell_type": "markdown",
      "source": [
        "#Exercise 7: Accept any three string from one input() call\n",
        "Write a program to take three names as input from a user in the single input() function call."
      ],
      "metadata": {
        "id": "dpxnwc7ZUExf"
      }
    },
    {
      "cell_type": "code",
      "source": [
        "str1, str2, str3 = input(\"Enter three string\").split()\n",
        "print('Name1:', str1)\n",
        "print('Name2:', str2)\n",
        "print('Name3:', str3)"
      ],
      "metadata": {
        "colab": {
          "base_uri": "https://localhost:8080/"
        },
        "id": "4A28Tb-DT17Y",
        "outputId": "5673f8d5-47db-4847-82da-14817ba7e224"
      },
      "execution_count": null,
      "outputs": [
        {
          "output_type": "stream",
          "name": "stdout",
          "text": [
            "Enter three stringabc def hij\n",
            "Name1: abc\n",
            "Name2: def\n",
            "Name3: hij\n"
          ]
        }
      ]
    },
    {
      "cell_type": "markdown",
      "source": [
        "#Exercise 8: Format variables using a string.format() method.\n",
        "Write a program to use string.format() method to format the following three variables as per the expected output"
      ],
      "metadata": {
        "id": "MBXWf17HSxW5"
      }
    },
    {
      "cell_type": "code",
      "source": [
        "quantity = 3\n",
        "totalMoney = 1000\n",
        "price = 450\n",
        "statement1 = \"I have {1} dollars so I can buy {0} football for {2:.2f} dollars.\"\n",
        "print(statement1.format(quantity, totalMoney, price))"
      ],
      "metadata": {
        "colab": {
          "base_uri": "https://localhost:8080/"
        },
        "id": "Uom9nj6NUI1h",
        "outputId": "2ff4f0f7-9fd0-4232-fcd6-33abaaae2869"
      },
      "execution_count": null,
      "outputs": [
        {
          "output_type": "stream",
          "name": "stdout",
          "text": [
            "I have 1000 dollars so I can buy 3 football for 450.00 dollars.\n"
          ]
        }
      ]
    },
    {
      "cell_type": "markdown",
      "source": [
        "#Exercise 9: Check file is empty or not\n",
        "Write a program to check if the given file is empty or not"
      ],
      "metadata": {
        "id": "GjJVUsbJTWIy"
      }
    },
    {
      "cell_type": "code",
      "source": [
        "import os\n",
        "size = os.stat(\"/content/Text.txt\").st_size\n",
        "if size == 0:\n",
        "    print('file is empty')\n",
        "else: \n",
        "  print('Not Empty')"
      ],
      "metadata": {
        "colab": {
          "base_uri": "https://localhost:8080/"
        },
        "id": "kkef6wm6TG_1",
        "outputId": "38d5c2b6-7284-4ba3-8fdf-e488725fcf2a"
      },
      "execution_count": null,
      "outputs": [
        {
          "output_type": "stream",
          "name": "stdout",
          "text": [
            "Not Empty\n"
          ]
        }
      ]
    },
    {
      "cell_type": "markdown",
      "source": [
        "#Exercise 10: Read line number 4 from the following file"
      ],
      "metadata": {
        "id": "cewuvTm5Ubwd"
      }
    },
    {
      "cell_type": "code",
      "source": [
        "with open(\"/content/Text.txt\", \"r\") as fp:\n",
        "    # read all lines from a file\n",
        "    lines = fp.readlines()\n",
        "\n",
        "    print(lines[3])"
      ],
      "metadata": {
        "colab": {
          "base_uri": "https://localhost:8080/"
        },
        "id": "C4CJ2s5tTbrg",
        "outputId": "9c024313-c636-4dea-dc87-420504c39a66"
      },
      "execution_count": null,
      "outputs": [
        {
          "output_type": "stream",
          "name": "stdout",
          "text": [
            "line4\n",
            "\n"
          ]
        }
      ]
    },
    {
      "cell_type": "code",
      "source": [
        ""
      ],
      "metadata": {
        "id": "j7b0ZqjIUt7c"
      },
      "execution_count": null,
      "outputs": []
    }
  ]
}