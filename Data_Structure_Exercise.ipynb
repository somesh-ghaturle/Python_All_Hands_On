{
  "nbformat": 4,
  "nbformat_minor": 0,
  "metadata": {
    "colab": {
      "name": "Data Structure Exercise.ipynb",
      "provenance": [],
      "authorship_tag": "ABX9TyOpO+vHH5Y6IYFxitdDX8fd",
      "include_colab_link": true
    },
    "kernelspec": {
      "name": "python3",
      "display_name": "Python 3"
    },
    "language_info": {
      "name": "python"
    }
  },
  "cells": [
    {
      "cell_type": "markdown",
      "metadata": {
        "id": "view-in-github",
        "colab_type": "text"
      },
      "source": [
        "<a href=\"https://colab.research.google.com/github/somesh-ghaturle/Python_All_Hands_On/blob/main/Data_Structure_Exercise.ipynb\" target=\"_parent\"><img src=\"https://colab.research.google.com/assets/colab-badge.svg\" alt=\"Open In Colab\"/></a>"
      ]
    },
    {
      "cell_type": "markdown",
      "source": [
        "##Exercise 1: Create a list by picking an odd-index items from the first list and even index items from the second\n",
        "Given two lists, l1 and l2, write a program to create a third list l3 by picking an odd-index element from the list l1 and even index elements from the list l2."
      ],
      "metadata": {
        "id": "zoo25lzKTp7d"
      }
    },
    {
      "cell_type": "code",
      "execution_count": null,
      "metadata": {
        "colab": {
          "base_uri": "https://localhost:8080/"
        },
        "id": "TlALJidkTc9F",
        "outputId": "52dac68f-edc6-44b5-ae97-f5afe339c039"
      },
      "outputs": [
        {
          "output_type": "stream",
          "name": "stdout",
          "text": [
            "[6, 12, 18, 4, 12, 20, 28]\n"
          ]
        }
      ],
      "source": [
        "l1 = [3, 6, 9, 12, 15, 18, 21]\n",
        "l2 = [4, 8, 12, 16, 20, 24, 28]\n",
        "\n",
        "result = l1[1::2] + l2[0::2]\n",
        "print(result)\n"
      ]
    },
    {
      "cell_type": "markdown",
      "source": [
        "#Exercise 2: Remove and add item in a list\n",
        "Write a program to remove the item present at index 4 and add it to the 2nd position and at the end of the list."
      ],
      "metadata": {
        "id": "28KP4DIWUmVb"
      }
    },
    {
      "cell_type": "code",
      "source": [
        "list1 = [54, 44, 27, 79, 91, 41]\n",
        "\n",
        "element = list1.pop(4)\n",
        "list1.insert(2,element)\n",
        "list1.append(element)\n",
        "list1"
      ],
      "metadata": {
        "colab": {
          "base_uri": "https://localhost:8080/"
        },
        "id": "_iVR9mpKUDW9",
        "outputId": "21800dca-cca5-4f21-9161-75363f7bb626"
      },
      "execution_count": null,
      "outputs": [
        {
          "output_type": "execute_result",
          "data": {
            "text/plain": [
              "[54, 44, 91, 27, 79, 41, 91]"
            ]
          },
          "metadata": {},
          "execution_count": 9
        }
      ]
    },
    {
      "cell_type": "code",
      "source": [
        "sample_list = [11, 45, 8, 23, 14, 12, 78, 45, 89]\n",
        "print(\"Original list \", sample_list)\n",
        "\n",
        "length = len(sample_list)\n",
        "chunk_size = int(length / 3)\n",
        "start = 0\n",
        "end = chunk_size\n",
        "\n",
        "# run loop 3 times\n",
        "for i in range(3):\n",
        "    # get indexes\n",
        "    indexes = slice(start, end)\n",
        "    \n",
        "    # get chunk\n",
        "    list_chunk = sample_list[indexes]\n",
        "    print(\"Chunk \", i, list_chunk)\n",
        "    \n",
        "    # reverse chunk\n",
        "    print(\"After reversing it \", list(reversed(list_chunk)))\n",
        "\n",
        "    start = end\n",
        "    end += chunk_size"
      ],
      "metadata": {
        "colab": {
          "base_uri": "https://localhost:8080/"
        },
        "id": "8Cy82bkaU_mX",
        "outputId": "bae47105-34c6-43a7-98bd-d4ba52fcb8a7"
      },
      "execution_count": null,
      "outputs": [
        {
          "output_type": "stream",
          "name": "stdout",
          "text": [
            "Original list  [11, 45, 8, 23, 14, 12, 78, 45, 89]\n",
            "Chunk  0 [11, 45, 8]\n",
            "After reversing it  [8, 45, 11]\n",
            "Chunk  1 [23, 14, 12]\n",
            "After reversing it  [12, 14, 23]\n",
            "Chunk  2 [78, 45, 89]\n",
            "After reversing it  [89, 45, 78]\n"
          ]
        }
      ]
    },
    {
      "cell_type": "markdown",
      "source": [
        "#Exercise 4: Count the occurrence of each element from a list\n",
        "Write a program to iterate a given list and count the occurrence of each element and create a dictionary to show the count of each element."
      ],
      "metadata": {
        "id": "9c_WcIs_W-7d"
      }
    },
    {
      "cell_type": "code",
      "source": [
        "sample_list = [11, 45, 8, 11, 23, 45, 23, 45, 89]\n",
        "dictonary  =dict()\n",
        "for i in sample_list:\n",
        "  if i in dictonary:\n",
        "    dictonary[i] +=1\n",
        "  else:\n",
        "    dictonary[i] =1\n",
        "print('Dictonary',dictonary)"
      ],
      "metadata": {
        "colab": {
          "base_uri": "https://localhost:8080/"
        },
        "id": "xMxDi5CIWrFb",
        "outputId": "ff4de61f-6e50-4058-cbed-9900c24d987d"
      },
      "execution_count": null,
      "outputs": [
        {
          "output_type": "stream",
          "name": "stdout",
          "text": [
            "Dictonary {11: 2, 45: 3, 8: 1, 23: 2, 89: 1}\n"
          ]
        }
      ]
    },
    {
      "cell_type": "markdown",
      "source": [
        "#Exercise 5: Create a Python set such that it shows the element from both lists in a pair"
      ],
      "metadata": {
        "id": "Ufqqw6zrX7dz"
      }
    },
    {
      "cell_type": "code",
      "source": [
        "first_list = [2, 3, 4, 5, 6, 7, 8]\n",
        "second_list = [4, 9, 16, 25, 36, 49, 64]\n",
        "newlist = zip(first_list,second_list)\n",
        "print('Result is ',set(sorted(newlist)))\n"
      ],
      "metadata": {
        "colab": {
          "base_uri": "https://localhost:8080/"
        },
        "id": "0ez2sFkEXssL",
        "outputId": "119020a8-d6e3-4602-8dc5-9d18592a29a6"
      },
      "execution_count": null,
      "outputs": [
        {
          "output_type": "stream",
          "name": "stdout",
          "text": [
            "Result is  {(6, 36), (8, 64), (4, 16), (5, 25), (3, 9), (7, 49), (2, 4)}\n"
          ]
        }
      ]
    },
    {
      "cell_type": "markdown",
      "source": [
        "#Exercise 6: Find the intersection (common) of two sets and remove those elements from the first set"
      ],
      "metadata": {
        "id": "BxRytul8Y-Ur"
      }
    },
    {
      "cell_type": "code",
      "source": [
        "first_set = {23, 42, 65, 57, 78, 83, 29}\n",
        "second_set = {57, 83, 29, 67, 73, 43, 48}\n",
        "\n",
        "intersection = first_set.intersection(second_set)\n",
        "print(\"Intersection is \", intersection)\n",
        "\n",
        "print(first_set - second_set)\n"
      ],
      "metadata": {
        "colab": {
          "base_uri": "https://localhost:8080/"
        },
        "id": "tC-h8SgrYZlO",
        "outputId": "b3f521fe-919f-4c70-e0e2-72cf36f0b07a"
      },
      "execution_count": null,
      "outputs": [
        {
          "output_type": "stream",
          "name": "stdout",
          "text": [
            "Intersection is  {57, 83, 29}\n",
            "{65, 42, 78, 23}\n"
          ]
        }
      ]
    },
    {
      "cell_type": "markdown",
      "source": [
        "#Exercise 7: Checks if one set is a subset or superset of another set. If found, delete all elements from that set"
      ],
      "metadata": {
        "id": "RVydVgHgZgP6"
      }
    },
    {
      "cell_type": "code",
      "source": [
        "first_set = {57, 83, 29}\n",
        "second_set = {57, 83, 29, 67, 73, 43, 48}\n",
        "\n",
        "print(\"First Set \", first_set)\n",
        "print(\"Second Set \", second_set)\n",
        "\n",
        "print(\"First set is subset of second set -\", first_set.issubset(second_set))\n",
        "print(\"Second set is subset of First set - \", second_set.issubset(first_set))\n",
        "\n",
        "print(\"First set is Super set of second set - \", first_set.issuperset(second_set))\n",
        "print(\"Second set is Super set of First set - \", second_set.issuperset(first_set))\n",
        "\n",
        "if first_set.issubset(second_set):\n",
        "    first_set.clear()\n",
        "\n",
        "if second_set.issubset(first_set):\n",
        "    second_set.clear()\n",
        "\n",
        "print(\"First Set \", first_set)\n",
        "print(\"Second Set \", second_set)"
      ],
      "metadata": {
        "colab": {
          "base_uri": "https://localhost:8080/"
        },
        "id": "ofa4rd5SZGjJ",
        "outputId": "e304c4e9-1fdc-4ee0-85e1-30eb8ed95cce"
      },
      "execution_count": null,
      "outputs": [
        {
          "output_type": "stream",
          "name": "stdout",
          "text": [
            "First Set  {57, 83, 29}\n",
            "Second Set  {67, 73, 43, 48, 83, 57, 29}\n",
            "First set is subset of second set - True\n",
            "Second set is subset of First set -  False\n",
            "First set is Super set of second set -  False\n",
            "Second set is Super set of First set -  True\n",
            "First Set  set()\n",
            "Second Set  {67, 73, 43, 48, 83, 57, 29}\n"
          ]
        }
      ]
    },
    {
      "cell_type": "markdown",
      "source": [
        "#Exercise 8: Iterate a given list and check if a given element exists as a key’s value in a dictionary. If not, delete it from the list"
      ],
      "metadata": {
        "id": "ZTPae1nAZ2wC"
      }
    },
    {
      "cell_type": "code",
      "source": [
        "roll_number = [47, 64, 69, 37, 76, 83, 95, 97]\n",
        "sample_dict = {'Jhon':47, 'Emma':69, 'Kelly':76, 'Jason':97}\n",
        "\n",
        "print(\"List:\", roll_number)\n",
        "print(\"Dictionary:\", sample_dict)\n",
        "\n",
        "# create new list\n",
        "roll_number[:] = [item for item in roll_number if item in sample_dict.values()]\n",
        "print(\"after removing unwanted elements from list:\", roll_number)"
      ],
      "metadata": {
        "colab": {
          "base_uri": "https://localhost:8080/"
        },
        "id": "5H4q0DphZnZm",
        "outputId": "257532e1-40f4-433b-fd13-60f13183aaa4"
      },
      "execution_count": null,
      "outputs": [
        {
          "output_type": "stream",
          "name": "stdout",
          "text": [
            "List: [47, 64, 69, 37, 76, 83, 95, 97]\n",
            "Dictionary: {'Jhon': 47, 'Emma': 69, 'Kelly': 76, 'Jason': 97}\n",
            "after removing unwanted elements from list: [47, 69, 76, 97]\n"
          ]
        }
      ]
    },
    {
      "cell_type": "markdown",
      "source": [
        "#Exercise 9: Get all values from the dictionary and add them to a list but don’t add duplicates"
      ],
      "metadata": {
        "id": "wE1fIuciaMGy"
      }
    },
    {
      "cell_type": "code",
      "source": [
        "speed = {'jan': 47, 'feb': 52, 'march': 47, 'April': 44, 'May': 52, 'June': 53, 'july': 54, 'Aug': 44, 'Sept': 54}\n",
        "temp =[]\n",
        "for i in speed.values():\n",
        "  if i not in temp:\n",
        "    temp.append(i)\n",
        "  \n",
        "print(temp)"
      ],
      "metadata": {
        "colab": {
          "base_uri": "https://localhost:8080/"
        },
        "id": "sHsZzvI7aCxv",
        "outputId": "7eea13dd-40f2-4283-be4f-5ac2289c9d46"
      },
      "execution_count": null,
      "outputs": [
        {
          "output_type": "stream",
          "name": "stdout",
          "text": [
            "[47, 52, 44, 53, 54]\n"
          ]
        }
      ]
    },
    {
      "cell_type": "markdown",
      "source": [
        "#Exercise 10: Remove duplicates from a list and create a tuple and find the minimum and maximum number"
      ],
      "metadata": {
        "id": "zxazYb8ranZi"
      }
    },
    {
      "cell_type": "code",
      "source": [
        "sample_list = [87, 52, 44, 53, 54, 87, 52, 53]\n",
        "\n",
        "print(\"Original list\", sample_list)\n",
        "\n",
        "sample_list = list(set(sample_list))\n",
        "print(\"unique list\", sample_list)\n",
        "\n",
        "t = tuple(sample_list)\n",
        "print(\"tuple \", t)\n",
        "\n",
        "print(\"Minimum number is: \", min(t))\n",
        "print(\"Maximum number is: \", max(t))"
      ],
      "metadata": {
        "colab": {
          "base_uri": "https://localhost:8080/"
        },
        "id": "bF0OSx9xah29",
        "outputId": "aef7b8cd-9463-4f65-b1f9-2006286a7808"
      },
      "execution_count": null,
      "outputs": [
        {
          "output_type": "stream",
          "name": "stdout",
          "text": [
            "Original list [87, 52, 44, 53, 54, 87, 52, 53]\n",
            "unique list [44, 52, 53, 54, 87]\n",
            "tuple  (44, 52, 53, 54, 87)\n",
            "Minimum number is:  44\n",
            "Maximum number is:  87\n"
          ]
        }
      ]
    },
    {
      "cell_type": "code",
      "source": [
        ""
      ],
      "metadata": {
        "id": "1D_NwpKPa5CO"
      },
      "execution_count": null,
      "outputs": []
    }
  ]
}