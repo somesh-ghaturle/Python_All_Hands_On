{
  "nbformat": 4,
  "nbformat_minor": 0,
  "metadata": {
    "colab": {
      "name": "Dictionary Exercise.ipynb",
      "provenance": [],
      "authorship_tag": "ABX9TyNovkWq0gbhQk6cXHrxybk1",
      "include_colab_link": true
    },
    "kernelspec": {
      "name": "python3",
      "display_name": "Python 3"
    },
    "language_info": {
      "name": "python"
    }
  },
  "cells": [
    {
      "cell_type": "markdown",
      "metadata": {
        "id": "view-in-github",
        "colab_type": "text"
      },
      "source": [
        "<a href=\"https://colab.research.google.com/github/somesh-ghaturle/Python_All_Hands_On/blob/main/Dictionary_Exercise.ipynb\" target=\"_parent\"><img src=\"https://colab.research.google.com/assets/colab-badge.svg\" alt=\"Open In Colab\"/></a>"
      ]
    },
    {
      "cell_type": "markdown",
      "source": [
        "#Exercise 1: Convert two lists into a dictionary\n",
        "Below are the two lists. Write a Python program to convert them into a dictionary in a way that item from list1 is the key and item from list2 is the value"
      ],
      "metadata": {
        "id": "jGqbNr7HpIN6"
      }
    },
    {
      "cell_type": "code",
      "execution_count": null,
      "metadata": {
        "colab": {
          "base_uri": "https://localhost:8080/"
        },
        "id": "q7ASTQ4YoNl2",
        "outputId": "0d632667-f09b-4fc1-8eab-f77cd631a13c"
      },
      "outputs": [
        {
          "output_type": "stream",
          "name": "stdout",
          "text": [
            "{'Ten': 10, 'Twenty': 20, 'Thirty': 30}\n"
          ]
        }
      ],
      "source": [
        "keys = ['Ten', 'Twenty', 'Thirty']\n",
        "values = [10, 20, 30]\n",
        "\n",
        "data = dict(zip(keys,values))\n",
        "print(data)"
      ]
    },
    {
      "cell_type": "markdown",
      "source": [
        "#Exercise 2: Merge two Python dictionaries into one"
      ],
      "metadata": {
        "id": "M08vzmQJpuFH"
      }
    },
    {
      "cell_type": "code",
      "source": [
        "dict1 = {'Ten': 10, 'Twenty': 20, 'Thirty': 30}\n",
        "dict2 = {'Thirty': 30, 'Fourty': 40, 'Fifty': 50}\n",
        "\n",
        "# dict3=dict1.copy()\n",
        "# dict3.update(dict2)\n",
        "# print(dict3)\n",
        "\n",
        "dict3 = {**dict1,**dict2}\n",
        "print(dict3)"
      ],
      "metadata": {
        "colab": {
          "base_uri": "https://localhost:8080/"
        },
        "id": "EJUjjcGEpWPy",
        "outputId": "c40b3347-128b-4567-cd58-e86a8f5b6a7a"
      },
      "execution_count": null,
      "outputs": [
        {
          "output_type": "stream",
          "name": "stdout",
          "text": [
            "{'Ten': 10, 'Twenty': 20, 'Thirty': 30, 'Fourty': 40, 'Fifty': 50}\n"
          ]
        }
      ]
    },
    {
      "cell_type": "markdown",
      "source": [
        "#Exercise 3: Print the value of key ‘history’ from the below dict"
      ],
      "metadata": {
        "id": "nh4jmjGpqc5b"
      }
    },
    {
      "cell_type": "code",
      "source": [
        "sampleDict = {\n",
        "    \"class\": {\n",
        "        \"student\": {\n",
        "            \"name\": \"Mike\",\n",
        "            \"marks\": {\n",
        "                \"physics\": 70,\n",
        "                \"history\": 80\n",
        "            }\n",
        "        }\n",
        "    }\n",
        "}\n",
        "\n",
        "print(sampleDict['class']['student']['marks']['history'])"
      ],
      "metadata": {
        "colab": {
          "base_uri": "https://localhost:8080/"
        },
        "id": "x9yYpyiVqCQz",
        "outputId": "d5b18de0-90b7-4509-fa96-96d525beef09"
      },
      "execution_count": null,
      "outputs": [
        {
          "output_type": "stream",
          "name": "stdout",
          "text": [
            "80\n"
          ]
        }
      ]
    },
    {
      "cell_type": "code",
      "source": [
        ""
      ],
      "metadata": {
        "id": "UYSdHL8Mq4WD"
      },
      "execution_count": null,
      "outputs": []
    },
    {
      "cell_type": "markdown",
      "source": [
        "#Exercise 4: Initialize dictionary with default values\n",
        "In Python, we can initialize the keys with the same values."
      ],
      "metadata": {
        "id": "Yl9LlXXPq_Et"
      }
    },
    {
      "cell_type": "code",
      "source": [
        "employees = ['Kelly', 'Emma']\n",
        "defaults = {\"designation\": 'Developer', \"salary\": 8000}\n",
        "\n",
        "newdict = dict.fromkeys(employees,defaults)\n",
        "print(newdict)\n",
        "print(newdict['Emma'])"
      ],
      "metadata": {
        "colab": {
          "base_uri": "https://localhost:8080/"
        },
        "id": "D10Rh01mrAmY",
        "outputId": "e580bb61-6b4a-4368-aac5-7236b6468f90"
      },
      "execution_count": null,
      "outputs": [
        {
          "output_type": "stream",
          "name": "stdout",
          "text": [
            "{'Kelly': {'designation': 'Developer', 'salary': 8000}, 'Emma': {'designation': 'Developer', 'salary': 8000}}\n",
            "{'designation': 'Developer', 'salary': 8000}\n"
          ]
        }
      ]
    },
    {
      "cell_type": "markdown",
      "source": [
        "#Exercise 5: Create a dictionary by extracting the keys from a given dictionary\n",
        "Write a Python program to create a new dictionary by extracting the mentioned keys from the below dictionary."
      ],
      "metadata": {
        "id": "Tfotm2carna9"
      }
    },
    {
      "cell_type": "code",
      "source": [
        "sample_dict = {\n",
        "    \"name\": \"Kelly\",\n",
        "    \"age\": 25,\n",
        "    \"salary\": 8000,\n",
        "    \"city\": \"New york\"}\n",
        "\n",
        "# Keys to extract\n",
        "keys = [\"name\", \"salary\"]\n",
        "\n",
        "newDict = {k: sample_dict[k] for k in keys}\n",
        "print(newDict)"
      ],
      "metadata": {
        "colab": {
          "base_uri": "https://localhost:8080/"
        },
        "id": "iFPyqUcXrZn7",
        "outputId": "e004cbdd-25c0-40f0-f9ba-9a9164c3c69d"
      },
      "execution_count": null,
      "outputs": [
        {
          "output_type": "stream",
          "name": "stdout",
          "text": [
            "{'name': 'Kelly', 'salary': 8000}\n"
          ]
        }
      ]
    },
    {
      "cell_type": "code",
      "source": [
        "sample_dict = {\n",
        "    \"name\": \"Kelly\",\n",
        "    \"age\": 25,\n",
        "    \"salary\": 8000,\n",
        "    \"city\": \"New york\"}\n",
        "\n",
        "# keys to extract\n",
        "keys = [\"name\", \"salary\"]\n",
        "\n",
        "# new dict\n",
        "res = dict()\n",
        "\n",
        "for k in keys:\n",
        "    # add current key with its va;ue from sample_dict\n",
        "    res.update({k: sample_dict[k]})\n",
        "print(res)"
      ],
      "metadata": {
        "colab": {
          "base_uri": "https://localhost:8080/"
        },
        "id": "mRI7uQVGr_s9",
        "outputId": "beb43f3d-c21a-4ed5-c2b9-0a670b4b6e0a"
      },
      "execution_count": null,
      "outputs": [
        {
          "output_type": "stream",
          "name": "stdout",
          "text": [
            "{'name': 'Kelly', 'salary': 8000}\n"
          ]
        }
      ]
    },
    {
      "cell_type": "markdown",
      "source": [
        "#Exercise 6: Delete a list of keys from a dictionary"
      ],
      "metadata": {
        "id": "-mMsO3PjpbDV"
      }
    },
    {
      "cell_type": "code",
      "source": [
        "sample_dict = {\n",
        "    \"name\": \"Kelly\",\n",
        "    \"age\": 25,\n",
        "    \"salary\": 8000,\n",
        "    \"city\": \"New york\"\n",
        "}\n",
        "\n",
        "# Keys to remove\n",
        "keys = [\"name\", \"salary\"]\n",
        "\n",
        "for k in keys:\n",
        "  sample_dict.pop(k)\n",
        "sample_dict"
      ],
      "metadata": {
        "colab": {
          "base_uri": "https://localhost:8080/"
        },
        "id": "HcjW_4Ebsqtx",
        "outputId": "4e8ea4ed-e85e-4bbf-9c5d-3fed4ebc5d6e"
      },
      "execution_count": null,
      "outputs": [
        {
          "output_type": "execute_result",
          "data": {
            "text/plain": [
              "{'age': 25, 'city': 'New york'}"
            ]
          },
          "metadata": {},
          "execution_count": 2
        }
      ]
    },
    {
      "cell_type": "code",
      "source": [
        "sample_dict = {\n",
        "    \"name\": \"Kelly\",\n",
        "    \"age\": 25,\n",
        "    \"salary\": 8000,\n",
        "    \"city\": \"New york\"\n",
        "}\n",
        "# Keys to remove\n",
        "keys = [\"name\", \"salary\"]\n",
        "\n",
        "sample_dict = {k: sample_dict[k] for k in sample_dict.keys() - keys}\n",
        "print(sample_dict)"
      ],
      "metadata": {
        "colab": {
          "base_uri": "https://localhost:8080/"
        },
        "id": "F2MjIriDpsko",
        "outputId": "c72224a9-0904-4ad0-eb13-45204c123c26"
      },
      "execution_count": null,
      "outputs": [
        {
          "output_type": "stream",
          "name": "stdout",
          "text": [
            "{'age': 25, 'city': 'New york'}\n"
          ]
        }
      ]
    },
    {
      "cell_type": "markdown",
      "source": [
        "#Exercise 7: Check if a value exists in a dictionary\n",
        "\n",
        "We know how to check if the key exists in a dictionary. Sometimes it is required to check if the given value is present.\n",
        "\n",
        "Write a Python program to check if value 200 exists in the following dictionary."
      ],
      "metadata": {
        "id": "Mw4RZ5DZqJO9"
      }
    },
    {
      "cell_type": "code",
      "source": [
        "sample_dict = {'a': 100, 'b': 200, 'c': 300}\n",
        "\n",
        "for i in sample_dict.values():\n",
        "  if i == 200:\n",
        "    print(f'{i} is Present in Dictionary')  "
      ],
      "metadata": {
        "colab": {
          "base_uri": "https://localhost:8080/"
        },
        "id": "MWaapAxaqEn5",
        "outputId": "ac8ab75c-ecf3-4e6d-8a71-21b563a51fae"
      },
      "execution_count": null,
      "outputs": [
        {
          "output_type": "stream",
          "name": "stdout",
          "text": [
            "200 is Present in Dictionary\n"
          ]
        }
      ]
    },
    {
      "cell_type": "code",
      "source": [
        "if 200 in sample_dict.values():\n",
        "    print('200 present in a dict')"
      ],
      "metadata": {
        "colab": {
          "base_uri": "https://localhost:8080/"
        },
        "id": "krYAuRP3q8nx",
        "outputId": "3b86cf27-bc56-4bc4-a00b-05d862721d29"
      },
      "execution_count": null,
      "outputs": [
        {
          "output_type": "stream",
          "name": "stdout",
          "text": [
            "200 present in a dict\n"
          ]
        }
      ]
    },
    {
      "cell_type": "markdown",
      "source": [
        "#Exercise 8: Rename key of a dictionary\n",
        "Write a program to rename a key city to a location in the following dictionary."
      ],
      "metadata": {
        "id": "gX0invQErGUt"
      }
    },
    {
      "cell_type": "code",
      "source": [
        "sample_dict = {\n",
        "  \"name\": \"Kelly\",\n",
        "  \"age\":25,\n",
        "  \"salary\": 8000,\n",
        "  \"city\": \"New york\"\n",
        "}\n",
        "\n",
        "sample_dict['location'] = sample_dict.pop('city')\n",
        "print(sample_dict)"
      ],
      "metadata": {
        "colab": {
          "base_uri": "https://localhost:8080/"
        },
        "id": "PzQUEPYIrA6f",
        "outputId": "44f48e10-7278-4f52-c597-d0d40ecf0541"
      },
      "execution_count": null,
      "outputs": [
        {
          "output_type": "stream",
          "name": "stdout",
          "text": [
            "{'name': 'Kelly', 'age': 25, 'salary': 8000, 'location': 'New york'}\n"
          ]
        }
      ]
    },
    {
      "cell_type": "markdown",
      "source": [
        "#Exercise 9: Get the key of a minimum value from the following dictionary"
      ],
      "metadata": {
        "id": "3tZUII2NrgFN"
      }
    },
    {
      "cell_type": "code",
      "source": [
        "sample_dict = {\n",
        "  'Physics': 82,\n",
        "  'Math': 65,\n",
        "  'history': 75\n",
        "}"
      ],
      "metadata": {
        "id": "ogjPLWaXrKpU"
      },
      "execution_count": null,
      "outputs": []
    },
    {
      "cell_type": "code",
      "source": [
        "min(sample_dict.keys())"
      ],
      "metadata": {
        "colab": {
          "base_uri": "https://localhost:8080/",
          "height": 35
        },
        "id": "F3cWvXCvrk0Z",
        "outputId": "786c5f30-a82c-4170-9e3d-aea33f758761"
      },
      "execution_count": null,
      "outputs": [
        {
          "output_type": "execute_result",
          "data": {
            "application/vnd.google.colaboratory.intrinsic+json": {
              "type": "string"
            },
            "text/plain": [
              "'Math'"
            ]
          },
          "metadata": {},
          "execution_count": 11
        }
      ]
    },
    {
      "cell_type": "code",
      "source": [
        "print(min(sample_dict, key=sample_dict.get))"
      ],
      "metadata": {
        "colab": {
          "base_uri": "https://localhost:8080/"
        },
        "id": "8b9SfrucrsZ-",
        "outputId": "058e8d0f-3143-462c-828d-7f8e9e7253c4"
      },
      "execution_count": null,
      "outputs": [
        {
          "output_type": "stream",
          "name": "stdout",
          "text": [
            "Math\n"
          ]
        }
      ]
    },
    {
      "cell_type": "markdown",
      "source": [
        "#Exercise 10: Change value of a key in a nested dictionary\n",
        "Write a Python program to change Brad’s salary to 8500 in the following dictionary."
      ],
      "metadata": {
        "id": "aaRh7fejr-5r"
      }
    },
    {
      "cell_type": "code",
      "source": [
        "sample_dict = {\n",
        "    'emp1': {'name': 'Jhon', 'salary': 7500},\n",
        "    'emp2': {'name': 'Emma', 'salary': 8000},\n",
        "    'emp3': {'name': 'Brad', 'salary': 500}\n",
        "}"
      ],
      "metadata": {
        "id": "PHW3GrL4r3zH"
      },
      "execution_count": null,
      "outputs": []
    },
    {
      "cell_type": "code",
      "source": [
        "sample_dict['emp3']['salary'] = 8500"
      ],
      "metadata": {
        "id": "57lFcTFNsFi_"
      },
      "execution_count": null,
      "outputs": []
    },
    {
      "cell_type": "code",
      "source": [
        "sample_dict"
      ],
      "metadata": {
        "colab": {
          "base_uri": "https://localhost:8080/"
        },
        "id": "tYHQ-iCbsnSj",
        "outputId": "cc5f7f7d-bf92-43a0-a3d7-33e7043196c8"
      },
      "execution_count": null,
      "outputs": [
        {
          "output_type": "execute_result",
          "data": {
            "text/plain": [
              "{'emp1': {'name': 'Jhon', 'salary': 7500},\n",
              " 'emp2': {'name': 'Emma', 'salary': 8000},\n",
              " 'emp3': {'name': 'Brad', 'salary': 8500}}"
            ]
          },
          "metadata": {},
          "execution_count": 15
        }
      ]
    },
    {
      "cell_type": "code",
      "source": [
        ""
      ],
      "metadata": {
        "id": "aN89CiAnso1R"
      },
      "execution_count": null,
      "outputs": []
    }
  ]
}